{
 "cells": [
  {
   "cell_type": "markdown",
   "id": "339a7d0d",
   "metadata": {},
   "source": [
    "## Calculate spatial relationships suing STRTree"
   ]
  },
  {
   "cell_type": "code",
   "execution_count": 9,
   "id": "f1597c64",
   "metadata": {},
   "outputs": [],
   "source": [
    "## import libraries \n",
    "import geopandas as gpd \n",
    "from shapely import STRtree"
   ]
  },
  {
   "cell_type": "markdown",
   "id": "12d8673f",
   "metadata": {},
   "source": [
    "### Import data"
   ]
  },
  {
   "cell_type": "code",
   "execution_count": 17,
   "id": "e6f25493",
   "metadata": {},
   "outputs": [],
   "source": [
    "#gdf of the features that need to be compared \n",
    "features = gpd.read_file('no_navigation.geojson') \n",
    "\n",
    "#gdf of the route that will be compared with the features \n",
    "route = gpd.read_file('test_route.geojson') "
   ]
  },
  {
   "cell_type": "code",
   "execution_count": 18,
   "id": "0837924b",
   "metadata": {},
   "outputs": [],
   "source": [
    "#Create STRTree of interest features\n",
    "tree = STRtree(features['geometry'])"
   ]
  },
  {
   "cell_type": "code",
   "execution_count": 29,
   "id": "c9bcf5ce",
   "metadata": {},
   "outputs": [
    {
     "name": "stdout",
     "output_type": "stream",
     "text": [
      "intersects -> [[0, 0, 0], [171, 170, 166]]\n",
      "contains -> [[], []]\n",
      "touches -> [[], []]\n",
      "crosses -> [[0, 0, 0], [171, 170, 166]]\n",
      "overlaps -> [[], []]\n"
     ]
    }
   ],
   "source": [
    "#Query data based on spatial relationship specified in predicate\n",
    "print('intersects ->',tree.query(route['geometry'], predicate=\"intersects\").tolist())\n",
    "print('contains ->', tree.query(route['geometry'], predicate=\"contains\").tolist())\n",
    "print('touches ->',tree.query(route['geometry'], predicate=\"touches\").tolist())\n",
    "print('crosses ->', tree.query(route['geometry'], predicate=\"crosses\").tolist())\n",
    "print('overlaps ->',tree.query(route['geometry'], predicate=\"overlaps\").tolist())"
   ]
  }
 ],
 "metadata": {
  "kernelspec": {
   "display_name": "Python 3 (ipykernel)",
   "language": "python",
   "name": "python3"
  },
  "language_info": {
   "codemirror_mode": {
    "name": "ipython",
    "version": 3
   },
   "file_extension": ".py",
   "mimetype": "text/x-python",
   "name": "python",
   "nbconvert_exporter": "python",
   "pygments_lexer": "ipython3",
   "version": "3.10.6"
  }
 },
 "nbformat": 4,
 "nbformat_minor": 5
}
